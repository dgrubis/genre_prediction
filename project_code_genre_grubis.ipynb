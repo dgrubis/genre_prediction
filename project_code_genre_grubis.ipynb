{
 "cells": [
  {
   "cell_type": "code",
   "execution_count": 18,
   "metadata": {},
   "outputs": [],
   "source": [
    "import pandas as pd\n",
    "import numpy as np\n",
    "\n",
    "import matplotlib.pyplot as plt\n",
    "from matplotlib.colors import Normalize\n",
    "\n",
    "from sklearn import preprocessing\n",
    "from sklearn.model_selection import train_test_split\n",
    "from sklearn.preprocessing import LabelEncoder, OneHotEncoder\n",
    "import sklearn.metrics as metrics\n",
    "from sklearn.metrics import confusion_matrix, classification_report, accuracy_score, precision_recall_fscore_support\n",
    "from sklearn.ensemble import RandomForestClassifier\n",
    "from sklearn.svm import SVC\n",
    "from sklearn.model_selection import StratifiedShuffleSplit, GridSearchCV\n",
    "\n",
    "from keras.models import Sequential\n",
    "from keras.layers.core import Dense, Dropout, Activation\n",
    "from keras.optimizers import RMSprop\n",
    "import keras.callbacks as cb\n",
    "from keras.utils import np_utils, to_categorical\n",
    "from keras.utils.vis_utils import plot_model"
   ]
  },
  {
   "cell_type": "code",
   "execution_count": 19,
   "metadata": {},
   "outputs": [],
   "source": [
    "df = pd.read_csv('/Users/dgrubis/Desktop/SpotifyFeatures.csv')"
   ]
  },
  {
   "cell_type": "code",
   "execution_count": 21,
   "metadata": {},
   "outputs": [
    {
     "data": {
      "text/html": [
       "<div>\n",
       "<style scoped>\n",
       "    .dataframe tbody tr th:only-of-type {\n",
       "        vertical-align: middle;\n",
       "    }\n",
       "\n",
       "    .dataframe tbody tr th {\n",
       "        vertical-align: top;\n",
       "    }\n",
       "\n",
       "    .dataframe thead th {\n",
       "        text-align: right;\n",
       "    }\n",
       "</style>\n",
       "<table border=\"1\" class=\"dataframe\">\n",
       "  <thead>\n",
       "    <tr style=\"text-align: right;\">\n",
       "      <th></th>\n",
       "      <th>genre</th>\n",
       "      <th>artist_name</th>\n",
       "      <th>track_name</th>\n",
       "      <th>track_id</th>\n",
       "      <th>popularity</th>\n",
       "      <th>acousticness</th>\n",
       "      <th>danceability</th>\n",
       "      <th>duration_ms</th>\n",
       "      <th>energy</th>\n",
       "      <th>instrumentalness</th>\n",
       "      <th>key</th>\n",
       "      <th>liveness</th>\n",
       "      <th>loudness</th>\n",
       "      <th>mode</th>\n",
       "      <th>speechiness</th>\n",
       "      <th>tempo</th>\n",
       "      <th>time_signature</th>\n",
       "      <th>valence</th>\n",
       "    </tr>\n",
       "  </thead>\n",
       "  <tbody>\n",
       "    <tr>\n",
       "      <td>0</td>\n",
       "      <td>Movie</td>\n",
       "      <td>Henri Salvador</td>\n",
       "      <td>C'est beau de faire un Show</td>\n",
       "      <td>0BRjO6ga9RKCKjfDqeFgWV</td>\n",
       "      <td>0</td>\n",
       "      <td>0.611</td>\n",
       "      <td>0.389</td>\n",
       "      <td>99373</td>\n",
       "      <td>0.910</td>\n",
       "      <td>0.000</td>\n",
       "      <td>C#</td>\n",
       "      <td>0.3460</td>\n",
       "      <td>-1.828</td>\n",
       "      <td>Major</td>\n",
       "      <td>0.0525</td>\n",
       "      <td>166.969</td>\n",
       "      <td>4/4</td>\n",
       "      <td>0.814</td>\n",
       "    </tr>\n",
       "    <tr>\n",
       "      <td>1</td>\n",
       "      <td>Movie</td>\n",
       "      <td>Martin &amp; les fées</td>\n",
       "      <td>Perdu d'avance (par Gad Elmaleh)</td>\n",
       "      <td>0BjC1NfoEOOusryehmNudP</td>\n",
       "      <td>1</td>\n",
       "      <td>0.246</td>\n",
       "      <td>0.590</td>\n",
       "      <td>137373</td>\n",
       "      <td>0.737</td>\n",
       "      <td>0.000</td>\n",
       "      <td>F#</td>\n",
       "      <td>0.1510</td>\n",
       "      <td>-5.559</td>\n",
       "      <td>Minor</td>\n",
       "      <td>0.0868</td>\n",
       "      <td>174.003</td>\n",
       "      <td>4/4</td>\n",
       "      <td>0.816</td>\n",
       "    </tr>\n",
       "    <tr>\n",
       "      <td>2</td>\n",
       "      <td>Movie</td>\n",
       "      <td>Joseph Williams</td>\n",
       "      <td>Don't Let Me Be Lonely Tonight</td>\n",
       "      <td>0CoSDzoNIKCRs124s9uTVy</td>\n",
       "      <td>3</td>\n",
       "      <td>0.952</td>\n",
       "      <td>0.663</td>\n",
       "      <td>170267</td>\n",
       "      <td>0.131</td>\n",
       "      <td>0.000</td>\n",
       "      <td>C</td>\n",
       "      <td>0.1030</td>\n",
       "      <td>-13.879</td>\n",
       "      <td>Minor</td>\n",
       "      <td>0.0362</td>\n",
       "      <td>99.488</td>\n",
       "      <td>5/4</td>\n",
       "      <td>0.368</td>\n",
       "    </tr>\n",
       "    <tr>\n",
       "      <td>3</td>\n",
       "      <td>Movie</td>\n",
       "      <td>Henri Salvador</td>\n",
       "      <td>Dis-moi Monsieur Gordon Cooper</td>\n",
       "      <td>0Gc6TVm52BwZD07Ki6tIvf</td>\n",
       "      <td>0</td>\n",
       "      <td>0.703</td>\n",
       "      <td>0.240</td>\n",
       "      <td>152427</td>\n",
       "      <td>0.326</td>\n",
       "      <td>0.000</td>\n",
       "      <td>C#</td>\n",
       "      <td>0.0985</td>\n",
       "      <td>-12.178</td>\n",
       "      <td>Major</td>\n",
       "      <td>0.0395</td>\n",
       "      <td>171.758</td>\n",
       "      <td>4/4</td>\n",
       "      <td>0.227</td>\n",
       "    </tr>\n",
       "    <tr>\n",
       "      <td>4</td>\n",
       "      <td>Movie</td>\n",
       "      <td>Fabien Nataf</td>\n",
       "      <td>Ouverture</td>\n",
       "      <td>0IuslXpMROHdEPvSl1fTQK</td>\n",
       "      <td>4</td>\n",
       "      <td>0.950</td>\n",
       "      <td>0.331</td>\n",
       "      <td>82625</td>\n",
       "      <td>0.225</td>\n",
       "      <td>0.123</td>\n",
       "      <td>F</td>\n",
       "      <td>0.2020</td>\n",
       "      <td>-21.150</td>\n",
       "      <td>Major</td>\n",
       "      <td>0.0456</td>\n",
       "      <td>140.576</td>\n",
       "      <td>4/4</td>\n",
       "      <td>0.390</td>\n",
       "    </tr>\n",
       "  </tbody>\n",
       "</table>\n",
       "</div>"
      ],
      "text/plain": [
       "   genre        artist_name                        track_name  \\\n",
       "0  Movie     Henri Salvador       C'est beau de faire un Show   \n",
       "1  Movie  Martin & les fées  Perdu d'avance (par Gad Elmaleh)   \n",
       "2  Movie    Joseph Williams    Don't Let Me Be Lonely Tonight   \n",
       "3  Movie     Henri Salvador    Dis-moi Monsieur Gordon Cooper   \n",
       "4  Movie       Fabien Nataf                         Ouverture   \n",
       "\n",
       "                 track_id  popularity  acousticness  danceability  \\\n",
       "0  0BRjO6ga9RKCKjfDqeFgWV           0         0.611         0.389   \n",
       "1  0BjC1NfoEOOusryehmNudP           1         0.246         0.590   \n",
       "2  0CoSDzoNIKCRs124s9uTVy           3         0.952         0.663   \n",
       "3  0Gc6TVm52BwZD07Ki6tIvf           0         0.703         0.240   \n",
       "4  0IuslXpMROHdEPvSl1fTQK           4         0.950         0.331   \n",
       "\n",
       "   duration_ms  energy  instrumentalness key  liveness  loudness   mode  \\\n",
       "0        99373   0.910             0.000  C#    0.3460    -1.828  Major   \n",
       "1       137373   0.737             0.000  F#    0.1510    -5.559  Minor   \n",
       "2       170267   0.131             0.000   C    0.1030   -13.879  Minor   \n",
       "3       152427   0.326             0.000  C#    0.0985   -12.178  Major   \n",
       "4        82625   0.225             0.123   F    0.2020   -21.150  Major   \n",
       "\n",
       "   speechiness    tempo time_signature  valence  \n",
       "0       0.0525  166.969            4/4    0.814  \n",
       "1       0.0868  174.003            4/4    0.816  \n",
       "2       0.0362   99.488            5/4    0.368  \n",
       "3       0.0395  171.758            4/4    0.227  \n",
       "4       0.0456  140.576            4/4    0.390  "
      ]
     },
     "execution_count": 21,
     "metadata": {},
     "output_type": "execute_result"
    }
   ],
   "source": [
    "df.head()"
   ]
  },
  {
   "cell_type": "code",
   "execution_count": 22,
   "metadata": {},
   "outputs": [
    {
     "data": {
      "text/plain": [
       "array(['Movie', 'R&B', 'A Capella', 'Alternative', 'Country', 'Dance',\n",
       "       'Electronic', 'Anime', 'Folk', 'Blues', 'Opera', 'Hip-Hop',\n",
       "       \"Children's Music\", 'Children’s Music', 'Rap', 'Indie',\n",
       "       'Classical', 'Pop', 'Reggae', 'Reggaeton', 'Jazz', 'Rock', 'Ska',\n",
       "       'Comedy', 'Soul', 'Soundtrack', 'World'], dtype=object)"
      ]
     },
     "execution_count": 22,
     "metadata": {},
     "output_type": "execute_result"
    }
   ],
   "source": [
    "df.genre.unique()"
   ]
  },
  {
   "cell_type": "code",
   "execution_count": 23,
   "metadata": {},
   "outputs": [],
   "source": [
    "def combine(genre):\n",
    "    if genre == 'Hip-Hop' or genre == 'Rap':\n",
    "        return 'Hip-Hop/Rap'\n",
    "    if genre == 'Dance' or genre == 'Electronic':\n",
    "        return 'EDM'\n",
    "    if genre == 'Indie' or genre == 'Alternative':\n",
    "        return 'Alternative/Indie'\n",
    "    if genre == 'Soul' or genre == 'R&B':\n",
    "        return 'R&B'\n",
    "    else:\n",
    "        return genre"
   ]
  },
  {
   "cell_type": "code",
   "execution_count": 24,
   "metadata": {},
   "outputs": [],
   "source": [
    "def encode_and_bind(original_dataframe, feature_to_encode):\n",
    "    dummies = pd.get_dummies(original_dataframe[[feature_to_encode]])\n",
    "    new_df = pd.concat([original_dataframe, dummies], axis=1)\n",
    "    return(new_df)"
   ]
  },
  {
   "cell_type": "code",
   "execution_count": 25,
   "metadata": {},
   "outputs": [],
   "source": [
    "#df['genre'] = df['genre'].apply(combine)\n",
    "df = df.drop(['artist_name', 'track_name', 'track_id'], axis = 1)\n",
    "df = encode_and_bind(df, 'key')\n",
    "df = encode_and_bind(df, 'mode')\n",
    "df = encode_and_bind(df, 'time_signature')\n",
    "specific_genres = ((df['genre'] == 'Pop') | (df['genre'] == 'Country') | (df['genre'] == 'Rap') |\n",
    "                   (df['genre'] == 'Rock') | (df['genre'] == 'Jazz') | (df['genre'] == 'Electronic') | \n",
    "                   (df['genre'] == 'Indie') | (df['genre'] == 'R&B') | (df['genre'] == 'Reggae') | (df['genre'] == 'Classical'))\n",
    "df = df[specific_genres]"
   ]
  },
  {
   "cell_type": "code",
   "execution_count": 26,
   "metadata": {},
   "outputs": [],
   "source": [
    "#df.to_csv('/Users/dgrubis/Desktop/Spotify.csv') #for ggplot"
   ]
  },
  {
   "cell_type": "code",
   "execution_count": 27,
   "metadata": {},
   "outputs": [],
   "source": [
    "features = df.drop(['genre', 'key', 'mode', 'time_signature'], axis = 1)\n",
    "features_fi = df.drop(['genre', 'key', 'mode', 'time_signature'], axis = 1) #used as labels for feature importance plots\n",
    "#target_svm = df[['genre']].values.ravel() #target shape for non-NN models (rf, svm, adaboost)\n",
    "features = preprocessing.scale(features) #scale features\n",
    "target = to_categorical(df.genre.factorize()[0], 10) #target shape for NN"
   ]
  },
  {
   "cell_type": "code",
   "execution_count": 28,
   "metadata": {},
   "outputs": [],
   "source": [
    "le = preprocessing.LabelEncoder()\n",
    "target_svm = le.fit_transform(df[['genre']].values.ravel())"
   ]
  },
  {
   "cell_type": "code",
   "execution_count": 29,
   "metadata": {},
   "outputs": [
    {
     "data": {
      "text/plain": [
       "array(['R&B', 'Country', 'Electronic', 'Rap', 'Indie', 'Classical', 'Pop',\n",
       "       'Reggae', 'Jazz', 'Rock'], dtype=object)"
      ]
     },
     "execution_count": 29,
     "metadata": {},
     "output_type": "execute_result"
    }
   ],
   "source": [
    "df.genre.unique()"
   ]
  },
  {
   "cell_type": "code",
   "execution_count": 30,
   "metadata": {},
   "outputs": [
    {
     "data": {
      "text/plain": [
       "Index(['genre', 'popularity', 'acousticness', 'danceability', 'duration_ms',\n",
       "       'energy', 'instrumentalness', 'key', 'liveness', 'loudness', 'mode',\n",
       "       'speechiness', 'tempo', 'time_signature', 'valence', 'key_A', 'key_A#',\n",
       "       'key_B', 'key_C', 'key_C#', 'key_D', 'key_D#', 'key_E', 'key_F',\n",
       "       'key_F#', 'key_G', 'key_G#', 'mode_Major', 'mode_Minor',\n",
       "       'time_signature_0/4', 'time_signature_1/4', 'time_signature_3/4',\n",
       "       'time_signature_4/4', 'time_signature_5/4'],\n",
       "      dtype='object')"
      ]
     },
     "execution_count": 30,
     "metadata": {},
     "output_type": "execute_result"
    }
   ],
   "source": [
    "df.columns"
   ]
  },
  {
   "cell_type": "code",
   "execution_count": 31,
   "metadata": {},
   "outputs": [
    {
     "data": {
      "image/png": "[encoded data removed]",
      "text/plain": [
       "<Figure size 432x288 with 1 Axes>"
      ]
     },
     "metadata": {
      "needs_background": "light"
     },
     "output_type": "display_data"
    }
   ],
   "source": [
    "plt.scatter(df['duration_ms'], df['genre'])\n",
    "plt.subplots_adjust(bottom=-0.5)\n",
    "plt.xlabel('Song Duration (ms)')\n",
    "plt.ylabel('Genre')\n",
    "plt.title('Genre vs. Song Duration')\n",
    "plt.show()"
   ]
  },
  {
   "cell_type": "code",
   "execution_count": 32,
   "metadata": {},
   "outputs": [],
   "source": [
    "X_train, X_test, y_train, y_test = train_test_split(features, target, test_size=0.25, train_size = 0.75, shuffle = True)"
   ]
  },
  {
   "cell_type": "code",
   "execution_count": 34,
   "metadata": {},
   "outputs": [
    {
     "data": {
      "text/plain": [
       "22984"
      ]
     },
     "execution_count": 34,
     "metadata": {},
     "output_type": "execute_result"
    }
   ],
   "source": [
    "len(X_test)"
   ]
  },
  {
   "cell_type": "code",
   "execution_count": 45,
   "metadata": {},
   "outputs": [],
   "source": [
    "X_train_svm, X_test_svm, y_train_svm, y_test_svm = train_test_split(features, target_svm, test_size=0.25, train_size = 0.75, shuffle = True)"
   ]
  },
  {
   "cell_type": "code",
   "execution_count": 46,
   "metadata": {},
   "outputs": [],
   "source": [
    "# NN Architecture\n",
    "model = Sequential()\n",
    "\n",
    "model.add(Dense(1000, input_dim = 30))\n",
    "model.add(Activation('relu'))\n",
    "\n",
    "model.add(Dense(700))\n",
    "model.add(Dropout(0.35))\n",
    "model.add(Activation('relu'))\n",
    "\n",
    "model.add(Dense(250))\n",
    "model.add(Dropout(0.15))\n",
    "model.add(Activation('relu'))\n",
    "\n",
    "model.add(Dense(10))\n",
    "model.add(Activation('softmax'))\n",
    "plot_model(model, to_file='/Users/dgrubis/Desktop/model_plot.png', show_shapes=True, show_layer_names=True)\n",
    "\n",
    "rms = RMSprop()\n",
    "model.compile(loss = 'categorical_crossentropy', optimizer = rms, metrics = ['accuracy'])"
   ]
  },
  {
   "cell_type": "code",
   "execution_count": 47,
   "metadata": {},
   "outputs": [
    {
     "name": "stderr",
     "output_type": "stream",
     "text": [
      "/opt/anaconda3/lib/python3.7/site-packages/ipykernel_launcher.py:1: UserWarning: The `nb_epoch` argument in `fit` has been renamed `epochs`.\n",
      "  \"\"\"Entry point for launching an IPython kernel.\n"
     ]
    },
    {
     "name": "stdout",
     "output_type": "stream",
     "text": [
      "Train on 68950 samples, validate on 22984 samples\n",
      "Epoch 1/15\n",
      " - 20s - loss: 1.3637 - acc: 0.4973 - val_loss: 1.2902 - val_acc: 0.5158\n",
      "Epoch 2/15\n",
      " - 18s - loss: 1.2485 - acc: 0.5367 - val_loss: 1.2312 - val_acc: 0.5407\n",
      "Epoch 3/15\n",
      " - 21s - loss: 1.2111 - acc: 0.5478 - val_loss: 1.2154 - val_acc: 0.5402\n",
      "Epoch 4/15\n",
      " - 24s - loss: 1.1831 - acc: 0.5551 - val_loss: 1.1959 - val_acc: 0.5480\n",
      "Epoch 5/15\n",
      " - 20s - loss: 1.1644 - acc: 0.5644 - val_loss: 1.1707 - val_acc: 0.5580\n",
      "Epoch 6/15\n",
      " - 19s - loss: 1.1480 - acc: 0.5688 - val_loss: 1.1983 - val_acc: 0.5529\n",
      "Epoch 7/15\n",
      " - 19s - loss: 1.1368 - acc: 0.5721 - val_loss: 1.1694 - val_acc: 0.5623\n",
      "Epoch 8/15\n",
      " - 20s - loss: 1.1211 - acc: 0.5761 - val_loss: 1.1922 - val_acc: 0.5526\n",
      "Epoch 9/15\n",
      " - 18s - loss: 1.1125 - acc: 0.5798 - val_loss: 1.1717 - val_acc: 0.5617\n",
      "Epoch 10/15\n",
      " - 20s - loss: 1.1031 - acc: 0.5835 - val_loss: 1.1926 - val_acc: 0.5561\n",
      "Epoch 11/15\n",
      " - 19s - loss: 1.0953 - acc: 0.5863 - val_loss: 1.1787 - val_acc: 0.5584\n",
      "Epoch 12/15\n",
      " - 19s - loss: 1.0849 - acc: 0.5890 - val_loss: 1.1863 - val_acc: 0.5610\n",
      "Epoch 13/15\n",
      " - 19s - loss: 1.0787 - acc: 0.5906 - val_loss: 1.1894 - val_acc: 0.5628\n",
      "Epoch 14/15\n",
      " - 19s - loss: 1.0686 - acc: 0.5942 - val_loss: 1.1845 - val_acc: 0.5631\n",
      "Epoch 15/15\n",
      " - 22s - loss: 1.0636 - acc: 0.5943 - val_loss: 1.1632 - val_acc: 0.5644\n"
     ]
    }
   ],
   "source": [
    "history = model.fit(X_train, y_train, nb_epoch = 15, batch_size = 256, validation_data = (X_test, y_test), verbose = 2)"
   ]
  },
  {
   "cell_type": "code",
   "execution_count": 61,
   "metadata": {},
   "outputs": [
    {
     "data": {
      "image/png": "[encoded data removed]",
      "text/plain": [
       "<Figure size 432x288 with 1 Axes>"
      ]
     },
     "metadata": {
      "needs_background": "light"
     },
     "output_type": "display_data"
    }
   ],
   "source": [
    "plt.plot(history.history['acc'])\n",
    "plt.plot(history.history['val_acc'])\n",
    "plt.title('Accuracy over Epochs')\n",
    "plt.xlabel('Epoch')\n",
    "plt.ylabel('Accuracy')\n",
    "plt.legend(['Training Accuracy', 'Validation Accuracy'], loc='upper left')\n",
    "plt.show()"
   ]
  },
  {
   "cell_type": "code",
   "execution_count": 49,
   "metadata": {},
   "outputs": [
    {
     "name": "stdout",
     "output_type": "stream",
     "text": [
      "22984/22984 [==============================] - 5s 237us/step\n",
      "Accuracy of Neural Network:  0.56\n"
     ]
    }
   ],
   "source": [
    "print(\"Accuracy of Neural Network: \", round(model.evaluate(X_test, y_test, batch_size = 16)[1], 2))"
   ]
  },
  {
   "cell_type": "code",
   "execution_count": 50,
   "metadata": {},
   "outputs": [
    {
     "data": {
      "text/plain": [
       "RandomForestClassifier(bootstrap=True, class_weight=None, criterion='entropy',\n",
       "                       max_depth=None, max_features='auto', max_leaf_nodes=None,\n",
       "                       min_impurity_decrease=0.0, min_impurity_split=None,\n",
       "                       min_samples_leaf=1, min_samples_split=2,\n",
       "                       min_weight_fraction_leaf=0.0, n_estimators=100,\n",
       "                       n_jobs=None, oob_score=False, random_state=None,\n",
       "                       verbose=0, warm_start=False)"
      ]
     },
     "execution_count": 50,
     "metadata": {},
     "output_type": "execute_result"
    }
   ],
   "source": [
    "rf = RandomForestClassifier(n_estimators = 100, criterion = 'entropy')\n",
    "rf.fit(X_train_svm, y_train_svm)"
   ]
  },
  {
   "cell_type": "code",
   "execution_count": 51,
   "metadata": {},
   "outputs": [],
   "source": [
    "y_pred = rf.predict(X_test_svm)"
   ]
  },
  {
   "cell_type": "code",
   "execution_count": 52,
   "metadata": {},
   "outputs": [
    {
     "name": "stdout",
     "output_type": "stream",
     "text": [
      "Accuracy of the Random Forest:  0.49\n"
     ]
    }
   ],
   "source": [
    "print(\"Accuracy of the Random Forest: \", round(accuracy_score(y_test_svm, y_pred), 2))"
   ]
  },
  {
   "cell_type": "code",
   "execution_count": 53,
   "metadata": {},
   "outputs": [
    {
     "data": {
      "text/plain": [
       "<matplotlib.axes._subplots.AxesSubplot at 0x1a48ec2e10>"
      ]
     },
     "execution_count": 53,
     "metadata": {},
     "output_type": "execute_result"
    },
    {
     "data": {
      "image/png": "[encoded data removed]",
      "text/plain": [
       "<Figure size 432x288 with 1 Axes>"
      ]
     },
     "metadata": {
      "needs_background": "light"
     },
     "output_type": "display_data"
    }
   ],
   "source": [
    "feat_importances = pd.Series(rf.feature_importances_, index=features_fi.columns)\n",
    "feat_importances.nlargest(15).plot(kind='barh')"
   ]
  },
  {
   "cell_type": "code",
   "execution_count": 54,
   "metadata": {},
   "outputs": [
    {
     "data": {
      "text/plain": [
       "SVC(C=3.0, cache_size=200, class_weight=None, coef0=0.0,\n",
       "    decision_function_shape='ovo', degree=3, gamma='scale', kernel='rbf',\n",
       "    max_iter=-1, probability=True, random_state=None, shrinking=True, tol=0.001,\n",
       "    verbose=False)"
      ]
     },
     "execution_count": 54,
     "metadata": {},
     "output_type": "execute_result"
    }
   ],
   "source": [
    "svm = SVC(C = 3.0, kernel = 'rbf', decision_function_shape = 'ovo', gamma = 'scale', probability = True)\n",
    "svm.fit(X_train_svm, y_train_svm)"
   ]
  },
  {
   "cell_type": "code",
   "execution_count": 55,
   "metadata": {},
   "outputs": [],
   "source": [
    "y_pred = svm.predict(X_test_svm)"
   ]
  },
  {
   "cell_type": "code",
   "execution_count": 60,
   "metadata": {},
   "outputs": [
    {
     "name": "stdout",
     "output_type": "stream",
     "text": [
      "Accuracy of the RBF Kernel SVM:  0.5515140967629656\n"
     ]
    }
   ],
   "source": [
    "print(\"Accuracy of the RBF Kernel SVM: \", accuracy_score(y_test_svm, y_pred))"
   ]
  },
  {
   "cell_type": "code",
   "execution_count": 57,
   "metadata": {},
   "outputs": [
    {
     "name": "stdout",
     "output_type": "stream",
     "text": [
      "[[2038   41   88   17  142    0    6    0    5    4]\n",
      " [  13 1195   59  169   88   73   97   28  116  271]\n",
      " [  42   85 1533   53  240   22   68   57  209   48]\n",
      " [  11  262   76  774   98  243  303  173   29  425]\n",
      " [ 176  142  285  129 1272   10  125   23  214   39]\n",
      " [   1   13    9  168    4 1130   65  535    5  447]\n",
      " [   1  170   99  247  100  274  768  338  141   74]\n",
      " [   0   12   17  117    9  474  245 1283   17  185]\n",
      " [   2  146  142   33  124   19  144   69 1471   50]\n",
      " [  11  140   12  351   30  305   67   72   20 1212]]\n",
      "Precision:  0.5518339769914556\n",
      "Recall:  0.5518649869406025\n",
      "F-Score:  0.5503802801272014\n"
     ]
    }
   ],
   "source": [
    "confusion_matrix = confusion_matrix(y_test_svm, y_pred)\n",
    "print(confusion_matrix)\n",
    "print(\"Precision: \", precision_recall_fscore_support(y_test_svm, y_pred, average='macro')[0])\n",
    "print(\"Recall: \", precision_recall_fscore_support(y_test_svm, y_pred, average='macro')[1])\n",
    "print(\"F-Score: \", precision_recall_fscore_support(y_test_svm, y_pred, average='macro')[2])"
   ]
  },
  {
   "cell_type": "code",
   "execution_count": 58,
   "metadata": {},
   "outputs": [],
   "source": [
    "#Too expensive to run\n",
    "\n",
    "\n",
    "#C_range = np.logspace(-2, 5, num = 8, base = 10)\n",
    "#gamma_range = np.logspace(-5, 2, num = 8, base = 10)\n",
    "#param_grid = dict(gamma=gamma_range, C=C_range)\n",
    "#cv = StratifiedShuffleSplit(n_splits=5, test_size=0.25)\n",
    "#grid = GridSearchCV(SVC(), param_grid=param_grid, cv=cv)\n",
    "#grid.fit(X_train_svm, y_train_svm)\n",
    "\n",
    "#print(\"The best parameters are %s with a score of %0.2f\"\n",
    "      #% (grid.best_params_, grid.best_score_))"
   ]
  },
  {
   "cell_type": "code",
   "execution_count": 59,
   "metadata": {},
   "outputs": [],
   "source": [
    "#scores = grid.cv_results_['mean_test_score'].reshape(len(C_range),\n",
    "                                                     #len(gamma_range))\n",
    "\n",
    "#plt.figure(figsize=(8, 6))\n",
    "#plt.imshow(scores, interpolation='nearest', cmap=plt.cm.hot)\n",
    "#plt.xlabel('gamma')\n",
    "#plt.ylabel('C')\n",
    "#plt.colorbar()\n",
    "#plt.xticks(np.arange(len(gamma_range)), gamma_range, rotation=45)\n",
    "#plt.yticks(np.arange(len(C_range)), C_range)\n",
    "#plt.title('Validation accuracy')\n",
    "#plt.show()"
   ]
  },
  {
   "cell_type": "code",
   "execution_count": null,
   "metadata": {},
   "outputs": [],
   "source": []
  }
 ],
 "metadata": {
  "kernelspec": {
   "display_name": "Python 3",
   "language": "python",
   "name": "python3"
  },
  "language_info": {
   "codemirror_mode": {
    "name": "ipython",
    "version": 3
   },
   "file_extension": ".py",
   "mimetype": "text/x-python",
   "name": "python",
   "nbconvert_exporter": "python",
   "pygments_lexer": "ipython3",
   "version": "3.7.4"
  }
 },
 "nbformat": 4,
 "nbformat_minor": 2
}
